{
 "cells": [
  {
   "cell_type": "code",
   "execution_count": 1,
   "id": "a174077b",
   "metadata": {},
   "outputs": [],
   "source": [
    "import numpy as np\n",
    "import pandas as pd\n",
    "from scipy import stats\n",
    "import matplotlib.pyplot as plt\n",
    "\n",
    "from tqdm.auto import tqdm"
   ]
  },
  {
   "cell_type": "code",
   "execution_count": null,
   "id": "fd20bb37",
   "metadata": {},
   "outputs": [],
   "source": [
    "'''\n",
    "> Описание задания\n",
    "А/А-тестирование мобильного приложения. Необходимо посчитать результаты A/A-теста, проверяя метрику качества FPR \n",
    "(будем проверять на конверсии в покупку). Известно, что сплит-система сломана. Требуется проверить утверждение о поломке\n",
    "и найти ее причины, если сплит-система действительно сломана\n",
    "\n",
    "Описание колонок\n",
    "experimentVariant – вариант эксперимента\n",
    "version – версия приложения\n",
    "purchase – факт покупки\n",
    " \n",
    "\n",
    "Задача\n",
    "Запустите A/A-тест\n",
    "Посчитайте FPR на уровне альфа = 0.05 (ставьте подвыборки без возвращения объемом 1000). Вы увидите, что FPR > альфа! \n",
    "Нам нужно наоборот – чтобы было меньше.\n",
    "Найдите причины поломки сплит-системы, ориентируясь на результаты эксперимента (подсказка: найдите аномалию в версии приложения)\n",
    "Напишите выводы, которые можно сделать на основе анализа результатов A/A-теста\n",
    "'''"
   ]
  },
  {
   "cell_type": "code",
   "execution_count": 4,
   "id": "57ef3236",
   "metadata": {},
   "outputs": [],
   "source": [
    "df = pd.read_csv('/Users/ruslanhuretski/Documents/karpov.courses/Statistics/hw_aa.csv', sep=';')"
   ]
  },
  {
   "cell_type": "code",
   "execution_count": 5,
   "id": "b4700732",
   "metadata": {},
   "outputs": [
    {
     "data": {
      "text/html": [
       "<div>\n",
       "<style scoped>\n",
       "    .dataframe tbody tr th:only-of-type {\n",
       "        vertical-align: middle;\n",
       "    }\n",
       "\n",
       "    .dataframe tbody tr th {\n",
       "        vertical-align: top;\n",
       "    }\n",
       "\n",
       "    .dataframe thead th {\n",
       "        text-align: right;\n",
       "    }\n",
       "</style>\n",
       "<table border=\"1\" class=\"dataframe\">\n",
       "  <thead>\n",
       "    <tr style=\"text-align: right;\">\n",
       "      <th></th>\n",
       "      <th>Unnamed: 0</th>\n",
       "      <th>uid</th>\n",
       "      <th>experimentVariant</th>\n",
       "      <th>version</th>\n",
       "      <th>purchase</th>\n",
       "    </tr>\n",
       "  </thead>\n",
       "  <tbody>\n",
       "    <tr>\n",
       "      <th>0</th>\n",
       "      <td>1</td>\n",
       "      <td>c4ca4238a0b923820dcc509a6f75849b</td>\n",
       "      <td>1</td>\n",
       "      <td>v2.8.0</td>\n",
       "      <td>0</td>\n",
       "    </tr>\n",
       "    <tr>\n",
       "      <th>1</th>\n",
       "      <td>2</td>\n",
       "      <td>c81e728d9d4c2f636f067f89cc14862c</td>\n",
       "      <td>0</td>\n",
       "      <td>v2.9.0</td>\n",
       "      <td>0</td>\n",
       "    </tr>\n",
       "    <tr>\n",
       "      <th>2</th>\n",
       "      <td>3</td>\n",
       "      <td>eccbc87e4b5ce2fe28308fd9f2a7baf3</td>\n",
       "      <td>1</td>\n",
       "      <td>v2.9.0</td>\n",
       "      <td>0</td>\n",
       "    </tr>\n",
       "    <tr>\n",
       "      <th>3</th>\n",
       "      <td>4</td>\n",
       "      <td>a87ff679a2f3e71d9181a67b7542122c</td>\n",
       "      <td>1</td>\n",
       "      <td>v2.8.0</td>\n",
       "      <td>0</td>\n",
       "    </tr>\n",
       "    <tr>\n",
       "      <th>4</th>\n",
       "      <td>5</td>\n",
       "      <td>e4da3b7fbbce2345d7772b0674a318d5</td>\n",
       "      <td>1</td>\n",
       "      <td>v2.8.0</td>\n",
       "      <td>0</td>\n",
       "    </tr>\n",
       "  </tbody>\n",
       "</table>\n",
       "</div>"
      ],
      "text/plain": [
       "   Unnamed: 0                               uid  experimentVariant version  \\\n",
       "0           1  c4ca4238a0b923820dcc509a6f75849b                  1  v2.8.0   \n",
       "1           2  c81e728d9d4c2f636f067f89cc14862c                  0  v2.9.0   \n",
       "2           3  eccbc87e4b5ce2fe28308fd9f2a7baf3                  1  v2.9.0   \n",
       "3           4  a87ff679a2f3e71d9181a67b7542122c                  1  v2.8.0   \n",
       "4           5  e4da3b7fbbce2345d7772b0674a318d5                  1  v2.8.0   \n",
       "\n",
       "   purchase  \n",
       "0         0  \n",
       "1         0  \n",
       "2         0  \n",
       "3         0  \n",
       "4         0  "
      ]
     },
     "execution_count": 5,
     "metadata": {},
     "output_type": "execute_result"
    }
   ],
   "source": [
    "df.head()"
   ]
  },
  {
   "cell_type": "code",
   "execution_count": 6,
   "id": "7d748403",
   "metadata": {},
   "outputs": [
    {
     "data": {
      "text/plain": [
       "Unnamed: 0            int64\n",
       "uid                  object\n",
       "experimentVariant     int64\n",
       "version              object\n",
       "purchase              int64\n",
       "dtype: object"
      ]
     },
     "execution_count": 6,
     "metadata": {},
     "output_type": "execute_result"
    }
   ],
   "source": [
    "df.dtypes"
   ]
  },
  {
   "cell_type": "code",
   "execution_count": 7,
   "id": "98886b2c",
   "metadata": {},
   "outputs": [
    {
     "data": {
      "text/plain": [
       "(127018, 5)"
      ]
     },
     "execution_count": 7,
     "metadata": {},
     "output_type": "execute_result"
    }
   ],
   "source": [
    "df.shape"
   ]
  },
  {
   "cell_type": "code",
   "execution_count": 8,
   "id": "17f37d21",
   "metadata": {},
   "outputs": [
    {
     "data": {
      "text/plain": [
       "v2.8.0      82835\n",
       "v2.9.0      23954\n",
       "v3.8.0.0    11804\n",
       "v3.7.4.0     8425\n",
       "Name: version, dtype: int64"
      ]
     },
     "execution_count": 8,
     "metadata": {},
     "output_type": "execute_result"
    }
   ],
   "source": [
    "df.version.value_counts()"
   ]
  },
  {
   "cell_type": "code",
   "execution_count": 22,
   "id": "d29efec8",
   "metadata": {},
   "outputs": [
    {
     "data": {
      "application/vnd.jupyter.widget-view+json": {
       "model_id": "3abbd44be5c74943ba0536b00b7b0c5d",
       "version_major": 2,
       "version_minor": 0
      },
      "text/plain": [
       "  0%|          | 0/1000 [00:00<?, ?it/s]"
      ]
     },
     "metadata": {},
     "output_type": "display_data"
    },
    {
     "data": {
      "image/png": "[encoded data removed]",
      "text/plain": [
       "<Figure size 432x288 with 1 Axes>"
      ]
     },
     "metadata": {
      "needs_background": "light"
     },
     "output_type": "display_data"
    },
    {
     "data": {
      "text/plain": [
       "0.939"
      ]
     },
     "execution_count": 22,
     "metadata": {},
     "output_type": "execute_result"
    }
   ],
   "source": [
    "n = 100000\n",
    "simulations = 1000\n",
    "n_s = 1000\n",
    "res = []\n",
    "\n",
    "for i in tqdm(range(simulations)):\n",
    "    s1 = df[df.experimentVariant == 1].purchase.sample(n_s, replace = False).values\n",
    "    s2 = df[df.experimentVariant == 0].purchase.sample(n_s, replace = False).values\n",
    "    res.append(stats.ttest_ind(s1, s2, equal_var = False)[1])\n",
    "\n",
    "plt.hist(res, bins = 50)\n",
    "plt.style.use('ggplot')\n",
    "plt.xlabel('pvalues')\n",
    "plt.ylabel('frequency')\n",
    "plt.title(\"Histogram of ttest A/A simulations \")\n",
    "plt.show()\n",
    "\n",
    "# FPR не сойдется\n",
    "sum(np.array(res) < 0.05) / simulations"
   ]
  },
  {
   "cell_type": "code",
   "execution_count": 23,
   "id": "90cedfc8",
   "metadata": {},
   "outputs": [
    {
     "data": {
      "text/html": [
       "<div>\n",
       "<style scoped>\n",
       "    .dataframe tbody tr th:only-of-type {\n",
       "        vertical-align: middle;\n",
       "    }\n",
       "\n",
       "    .dataframe tbody tr th {\n",
       "        vertical-align: top;\n",
       "    }\n",
       "\n",
       "    .dataframe thead th {\n",
       "        text-align: right;\n",
       "    }\n",
       "</style>\n",
       "<table border=\"1\" class=\"dataframe\">\n",
       "  <thead>\n",
       "    <tr style=\"text-align: right;\">\n",
       "      <th></th>\n",
       "      <th>experimentVariant</th>\n",
       "      <th>purchase</th>\n",
       "    </tr>\n",
       "  </thead>\n",
       "  <tbody>\n",
       "    <tr>\n",
       "      <th>0</th>\n",
       "      <td>0</td>\n",
       "      <td>0.023945</td>\n",
       "    </tr>\n",
       "    <tr>\n",
       "      <th>1</th>\n",
       "      <td>1</td>\n",
       "      <td>0.053242</td>\n",
       "    </tr>\n",
       "  </tbody>\n",
       "</table>\n",
       "</div>"
      ],
      "text/plain": [
       "   experimentVariant  purchase\n",
       "0                  0  0.023945\n",
       "1                  1  0.053242"
      ]
     },
     "execution_count": 23,
     "metadata": {},
     "output_type": "execute_result"
    }
   ],
   "source": [
    "df.groupby('experimentVariant', as_index=False)\\\n",
    "    .agg({'purchase': 'mean'})"
   ]
  },
  {
   "cell_type": "code",
   "execution_count": 29,
   "id": "b3fba4b2",
   "metadata": {},
   "outputs": [
    {
     "data": {
      "text/html": [
       "<div>\n",
       "<style scoped>\n",
       "    .dataframe tbody tr th:only-of-type {\n",
       "        vertical-align: middle;\n",
       "    }\n",
       "\n",
       "    .dataframe tbody tr th {\n",
       "        vertical-align: top;\n",
       "    }\n",
       "\n",
       "    .dataframe thead th {\n",
       "        text-align: right;\n",
       "    }\n",
       "</style>\n",
       "<table border=\"1\" class=\"dataframe\">\n",
       "  <thead>\n",
       "    <tr style=\"text-align: right;\">\n",
       "      <th></th>\n",
       "      <th>version</th>\n",
       "      <th>purchase</th>\n",
       "      <th>Unnamed: 0</th>\n",
       "    </tr>\n",
       "  </thead>\n",
       "  <tbody>\n",
       "    <tr>\n",
       "      <th>0</th>\n",
       "      <td>v2.8.0</td>\n",
       "      <td>0.023372</td>\n",
       "      <td>82835</td>\n",
       "    </tr>\n",
       "    <tr>\n",
       "      <th>1</th>\n",
       "      <td>v2.9.0</td>\n",
       "      <td>0.072973</td>\n",
       "      <td>23954</td>\n",
       "    </tr>\n",
       "    <tr>\n",
       "      <th>2</th>\n",
       "      <td>v3.7.4.0</td>\n",
       "      <td>0.061484</td>\n",
       "      <td>8425</td>\n",
       "    </tr>\n",
       "    <tr>\n",
       "      <th>3</th>\n",
       "      <td>v3.8.0.0</td>\n",
       "      <td>0.060319</td>\n",
       "      <td>11804</td>\n",
       "    </tr>\n",
       "  </tbody>\n",
       "</table>\n",
       "</div>"
      ],
      "text/plain": [
       "    version  purchase  Unnamed: 0\n",
       "0    v2.8.0  0.023372       82835\n",
       "1    v2.9.0  0.072973       23954\n",
       "2  v3.7.4.0  0.061484        8425\n",
       "3  v3.8.0.0  0.060319       11804"
      ]
     },
     "execution_count": 29,
     "metadata": {},
     "output_type": "execute_result"
    }
   ],
   "source": [
    "df.groupby('version', as_index=False)\\\n",
    "    .agg({'purchase': 'mean', 'Unnamed: 0': 'count'})"
   ]
  },
  {
   "cell_type": "code",
   "execution_count": 38,
   "id": "4cc07346",
   "metadata": {},
   "outputs": [
    {
     "data": {
      "text/plain": [
       "65.22"
      ]
     },
     "execution_count": 38,
     "metadata": {},
     "output_type": "execute_result"
    }
   ],
   "source": [
    "# Найдем процент пользователей v2.8.0\n",
    "round(100*82835/df.shape[0], 2)"
   ]
  },
  {
   "cell_type": "code",
   "execution_count": 35,
   "id": "d5d11368",
   "metadata": {},
   "outputs": [
    {
     "data": {
      "text/html": [
       "<div>\n",
       "<style scoped>\n",
       "    .dataframe tbody tr th:only-of-type {\n",
       "        vertical-align: middle;\n",
       "    }\n",
       "\n",
       "    .dataframe tbody tr th {\n",
       "        vertical-align: top;\n",
       "    }\n",
       "\n",
       "    .dataframe thead th {\n",
       "        text-align: right;\n",
       "    }\n",
       "</style>\n",
       "<table border=\"1\" class=\"dataframe\">\n",
       "  <thead>\n",
       "    <tr style=\"text-align: right;\">\n",
       "      <th></th>\n",
       "      <th>experimentVariant</th>\n",
       "      <th>version</th>\n",
       "      <th>purchase</th>\n",
       "      <th>Unnamed: 0</th>\n",
       "    </tr>\n",
       "  </thead>\n",
       "  <tbody>\n",
       "    <tr>\n",
       "      <th>0</th>\n",
       "      <td>0</td>\n",
       "      <td>v2.8.0</td>\n",
       "      <td>0.0010</td>\n",
       "      <td>41283</td>\n",
       "    </tr>\n",
       "    <tr>\n",
       "      <th>1</th>\n",
       "      <td>0</td>\n",
       "      <td>v2.9.0</td>\n",
       "      <td>0.0747</td>\n",
       "      <td>11921</td>\n",
       "    </tr>\n",
       "    <tr>\n",
       "      <th>2</th>\n",
       "      <td>0</td>\n",
       "      <td>v3.7.4.0</td>\n",
       "      <td>0.0599</td>\n",
       "      <td>4204</td>\n",
       "    </tr>\n",
       "    <tr>\n",
       "      <th>3</th>\n",
       "      <td>0</td>\n",
       "      <td>v3.8.0.0</td>\n",
       "      <td>0.0576</td>\n",
       "      <td>5694</td>\n",
       "    </tr>\n",
       "    <tr>\n",
       "      <th>4</th>\n",
       "      <td>1</td>\n",
       "      <td>v2.8.0</td>\n",
       "      <td>0.0456</td>\n",
       "      <td>41552</td>\n",
       "    </tr>\n",
       "    <tr>\n",
       "      <th>5</th>\n",
       "      <td>1</td>\n",
       "      <td>v2.9.0</td>\n",
       "      <td>0.0713</td>\n",
       "      <td>12033</td>\n",
       "    </tr>\n",
       "    <tr>\n",
       "      <th>6</th>\n",
       "      <td>1</td>\n",
       "      <td>v3.7.4.0</td>\n",
       "      <td>0.0630</td>\n",
       "      <td>4221</td>\n",
       "    </tr>\n",
       "    <tr>\n",
       "      <th>7</th>\n",
       "      <td>1</td>\n",
       "      <td>v3.8.0.0</td>\n",
       "      <td>0.0628</td>\n",
       "      <td>6110</td>\n",
       "    </tr>\n",
       "  </tbody>\n",
       "</table>\n",
       "</div>"
      ],
      "text/plain": [
       "   experimentVariant   version  purchase  Unnamed: 0\n",
       "0                  0    v2.8.0    0.0010       41283\n",
       "1                  0    v2.9.0    0.0747       11921\n",
       "2                  0  v3.7.4.0    0.0599        4204\n",
       "3                  0  v3.8.0.0    0.0576        5694\n",
       "4                  1    v2.8.0    0.0456       41552\n",
       "5                  1    v2.9.0    0.0713       12033\n",
       "6                  1  v3.7.4.0    0.0630        4221\n",
       "7                  1  v3.8.0.0    0.0628        6110"
      ]
     },
     "execution_count": 35,
     "metadata": {},
     "output_type": "execute_result"
    }
   ],
   "source": [
    "df.groupby(['experimentVariant', 'version'], as_index=False)\\\n",
    "    .agg({'purchase': 'mean', 'Unnamed: 0': 'count'}) \\\n",
    "    .round(4)"
   ]
  },
  {
   "cell_type": "code",
   "execution_count": 41,
   "id": "665eafa8",
   "metadata": {},
   "outputs": [
    {
     "data": {
      "application/vnd.jupyter.widget-view+json": {
       "model_id": "82986be510614822bda3c20e80f911b7",
       "version_major": 2,
       "version_minor": 0
      },
      "text/plain": [
       "  0%|          | 0/1000 [00:00<?, ?it/s]"
      ]
     },
     "metadata": {},
     "output_type": "display_data"
    },
    {
     "data": {
      "image/png": "[encoded data removed]",
      "text/plain": [
       "<Figure size 432x288 with 1 Axes>"
      ]
     },
     "metadata": {},
     "output_type": "display_data"
    },
    {
     "data": {
      "text/plain": [
       "0.036"
      ]
     },
     "execution_count": 41,
     "metadata": {},
     "output_type": "execute_result"
    }
   ],
   "source": [
    "n = 100000\n",
    "simulations = 1000\n",
    "n_s = 1000\n",
    "res = []\n",
    "\n",
    "for i in tqdm(range(simulations)):\n",
    "    s1 = df[(df.experimentVariant == 1) & (df.version != 'v2.8.0')].purchase.sample(n_s, replace = False).values\n",
    "    s2 = df[(df.experimentVariant == 0) & (df.version != 'v2.8.0')].purchase.sample(n_s, replace = False).values\n",
    "    res.append(stats.ttest_ind(s1, s2, equal_var = False)[1])\n",
    "\n",
    "plt.hist(res, bins = 50)\n",
    "plt.style.use('ggplot')\n",
    "plt.xlabel('pvalues')\n",
    "plt.ylabel('frequency')\n",
    "plt.title(\"Histogram of ttest A/A simulations \")\n",
    "plt.show()\n",
    "\n",
    "# Проверяем, что количество ложноположительных случаев не превышает альфа\n",
    "sum(np.array(res) < 0.05) / simulations"
   ]
  },
  {
   "cell_type": "markdown",
   "id": "82ca9ff8",
   "metadata": {},
   "source": [
    "В экспериментальную группу 0 попадают такие пользователи версии приложения v2.8.0, у которых конверсия в покупку 0.1%. А в экспериментальную группу 1 попадают такие пользователи версии приложения v2.8.0, у которых конверсия в покупку 4.56% (в 40+ раз больше!). \n",
    "Общее их количество более 65%, что существенно влияет на наш эксперимент. \n",
    "\n",
    "Подозреваем, что система сплитования поломалась для пользователей версии приложения v2.8.0. Если исключим данную версию и повторно запустим расчет FPR через A/A, то теперь FPR < альфа. Мы доказали, что данные различия и портили результат нашего теста."
   ]
  },
  {
   "cell_type": "code",
   "execution_count": null,
   "id": "5e040343",
   "metadata": {},
   "outputs": [],
   "source": []
  }
 ],
 "metadata": {
  "kernelspec": {
   "display_name": "Python 3 (ipykernel)",
   "language": "python",
   "name": "python3"
  },
  "language_info": {
   "codemirror_mode": {
    "name": "ipython",
    "version": 3
   },
   "file_extension": ".py",
   "mimetype": "text/x-python",
   "name": "python",
   "nbconvert_exporter": "python",
   "pygments_lexer": "ipython3",
   "version": "3.8.8"
  }
 },
 "nbformat": 4,
 "nbformat_minor": 5
}
