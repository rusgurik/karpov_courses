{
 "cells": [
  {
   "cell_type": "markdown",
   "id": "0c78b83f",
   "metadata": {},
   "source": [
    "## Задание 2\n",
    "Имеются результаты A/B теста, в котором двум группам пользователей предлагались различные наборы акционных предложений. Известно, что ARPU в тестовой группе выше на 5%, чем в контрольной. При этом в контрольной группе 1928 игроков из 202103 оказались платящими, а в тестовой – 1805 из 202667.\n",
    "\n",
    "Какой набор предложений можно считать лучшим? Какие метрики стоит проанализировать для принятия правильного решения и как?"
   ]
  },
  {
   "cell_type": "code",
   "execution_count": 1,
   "id": "6966d2d1",
   "metadata": {},
   "outputs": [],
   "source": [
    "import pandas as pd\n",
    "import numpy as np\n",
    "\n",
    "%matplotlib inline\n",
    "import matplotlib.pyplot as plt\n",
    "plt.style.use('ggplot')\n",
    "import seaborn as sns\n",
    "\n",
    "from scipy import stats\n",
    "from tqdm.auto import tqdm\n",
    "from scipy.stats import norm"
   ]
  },
  {
   "cell_type": "code",
   "execution_count": 2,
   "id": "0e9c75e6",
   "metadata": {},
   "outputs": [],
   "source": [
    "#читаем данные с Яндекс Диска\n",
    "\n",
    "df = pd.read_csv('https://getfile.dokpub.com/yandex/get/https://disk.yandex.ru/d/12gk_ATEeBZm4A', sep = ';')"
   ]
  },
  {
   "cell_type": "code",
   "execution_count": 3,
   "id": "365889b8",
   "metadata": {},
   "outputs": [
    {
     "data": {
      "text/html": [
       "<div>\n",
       "<style scoped>\n",
       "    .dataframe tbody tr th:only-of-type {\n",
       "        vertical-align: middle;\n",
       "    }\n",
       "\n",
       "    .dataframe tbody tr th {\n",
       "        vertical-align: top;\n",
       "    }\n",
       "\n",
       "    .dataframe thead th {\n",
       "        text-align: right;\n",
       "    }\n",
       "</style>\n",
       "<table border=\"1\" class=\"dataframe\">\n",
       "  <thead>\n",
       "    <tr style=\"text-align: right;\">\n",
       "      <th></th>\n",
       "      <th>user_id</th>\n",
       "      <th>revenue</th>\n",
       "      <th>testgroup</th>\n",
       "    </tr>\n",
       "  </thead>\n",
       "  <tbody>\n",
       "    <tr>\n",
       "      <th>0</th>\n",
       "      <td>1</td>\n",
       "      <td>0</td>\n",
       "      <td>b</td>\n",
       "    </tr>\n",
       "    <tr>\n",
       "      <th>1</th>\n",
       "      <td>2</td>\n",
       "      <td>0</td>\n",
       "      <td>a</td>\n",
       "    </tr>\n",
       "    <tr>\n",
       "      <th>2</th>\n",
       "      <td>3</td>\n",
       "      <td>0</td>\n",
       "      <td>a</td>\n",
       "    </tr>\n",
       "    <tr>\n",
       "      <th>3</th>\n",
       "      <td>4</td>\n",
       "      <td>0</td>\n",
       "      <td>b</td>\n",
       "    </tr>\n",
       "    <tr>\n",
       "      <th>4</th>\n",
       "      <td>5</td>\n",
       "      <td>0</td>\n",
       "      <td>b</td>\n",
       "    </tr>\n",
       "  </tbody>\n",
       "</table>\n",
       "</div>"
      ],
      "text/plain": [
       "   user_id  revenue testgroup\n",
       "0        1        0         b\n",
       "1        2        0         a\n",
       "2        3        0         a\n",
       "3        4        0         b\n",
       "4        5        0         b"
      ]
     },
     "execution_count": 3,
     "metadata": {},
     "output_type": "execute_result"
    }
   ],
   "source": [
    "df.head()"
   ]
  },
  {
   "cell_type": "code",
   "execution_count": 4,
   "id": "de93482f",
   "metadata": {},
   "outputs": [
    {
     "data": {
      "text/plain": [
       "user_id       int64\n",
       "revenue       int64\n",
       "testgroup    object\n",
       "dtype: object"
      ]
     },
     "execution_count": 4,
     "metadata": {},
     "output_type": "execute_result"
    }
   ],
   "source": [
    "df.dtypes"
   ]
  },
  {
   "cell_type": "code",
   "execution_count": 5,
   "id": "1c736c93",
   "metadata": {},
   "outputs": [
    {
     "data": {
      "text/plain": [
       "(404770, 3)"
      ]
     },
     "execution_count": 5,
     "metadata": {},
     "output_type": "execute_result"
    }
   ],
   "source": [
    "df.shape"
   ]
  },
  {
   "cell_type": "code",
   "execution_count": 6,
   "id": "e98d4814",
   "metadata": {},
   "outputs": [],
   "source": [
    "# Создадим отдельные df для тестовой и контрольной группы по всем пользователям\n",
    "\n",
    "control = df.query('testgroup == \"a\"')\n",
    "test = df.query('testgroup == \"b\"')\n",
    "\n",
    "# И только по платящим пользователям\n",
    "\n",
    "control_paying_users = control.query('revenue > 0')\n",
    "test_paying_users = test.query('revenue > 0')"
   ]
  },
  {
   "cell_type": "code",
   "execution_count": 7,
   "id": "cf14ff4a",
   "metadata": {},
   "outputs": [
    {
     "data": {
      "text/html": [
       "<div>\n",
       "<style scoped>\n",
       "    .dataframe tbody tr th:only-of-type {\n",
       "        vertical-align: middle;\n",
       "    }\n",
       "\n",
       "    .dataframe tbody tr th {\n",
       "        vertical-align: top;\n",
       "    }\n",
       "\n",
       "    .dataframe thead th {\n",
       "        text-align: right;\n",
       "    }\n",
       "</style>\n",
       "<table border=\"1\" class=\"dataframe\">\n",
       "  <thead>\n",
       "    <tr style=\"text-align: right;\">\n",
       "      <th></th>\n",
       "      <th>testgroup</th>\n",
       "      <th>revenue</th>\n",
       "      <th>user_id</th>\n",
       "    </tr>\n",
       "  </thead>\n",
       "  <tbody>\n",
       "    <tr>\n",
       "      <th>0</th>\n",
       "      <td>a</td>\n",
       "      <td>5136189</td>\n",
       "      <td>202103</td>\n",
       "    </tr>\n",
       "    <tr>\n",
       "      <th>1</th>\n",
       "      <td>b</td>\n",
       "      <td>5421603</td>\n",
       "      <td>202667</td>\n",
       "    </tr>\n",
       "  </tbody>\n",
       "</table>\n",
       "</div>"
      ],
      "text/plain": [
       "  testgroup  revenue  user_id\n",
       "0         a  5136189   202103\n",
       "1         b  5421603   202667"
      ]
     },
     "execution_count": 7,
     "metadata": {},
     "output_type": "execute_result"
    }
   ],
   "source": [
    "# Посмотрим на кол-во пользователей в группах их доход\n",
    "\n",
    "df.groupby('testgroup', as_index = False).agg({'revenue' : 'sum', 'user_id' : 'nunique'})"
   ]
  },
  {
   "cell_type": "code",
   "execution_count": 8,
   "id": "e290c508",
   "metadata": {},
   "outputs": [
    {
     "data": {
      "text/plain": [
       "Text(0, 0.5, 'Доход')"
      ]
     },
     "execution_count": 8,
     "metadata": {},
     "output_type": "execute_result"
    },
    {
     "data": {
      "image/png": "[encoded data removed]",
      "text/plain": [
       "<Figure size 432x288 with 1 Axes>"
      ]
     },
     "metadata": {},
     "output_type": "display_data"
    }
   ],
   "source": [
    "# Построим диаграмму размаха для визуального понимания возможных различий\n",
    "\n",
    "sns.boxplot(x=\"testgroup\", y=\"revenue\", data=df)\n",
    "plt.title('Диграмма размаха дохода пользователей')\n",
    "plt.xlabel('Группы пользоватлей: a - control, b - test')\n",
    "plt.ylabel('Доход')"
   ]
  },
  {
   "cell_type": "markdown",
   "id": "ebe267fa",
   "metadata": {},
   "source": [
    "Видны выбросы в контрольной группе (a), давайте посмотрим на описательные статистики каждой группы"
   ]
  },
  {
   "cell_type": "code",
   "execution_count": 9,
   "id": "9857d90e",
   "metadata": {},
   "outputs": [
    {
     "data": {
      "text/plain": [
       "count    202103.000000\n",
       "mean         25.413720\n",
       "std         920.768137\n",
       "min           0.000000\n",
       "25%           0.000000\n",
       "50%           0.000000\n",
       "75%           0.000000\n",
       "max       37433.000000\n",
       "Name: revenue, dtype: float64"
      ]
     },
     "execution_count": 9,
     "metadata": {},
     "output_type": "execute_result"
    }
   ],
   "source": [
    "# Контрольная группа\n",
    "\n",
    "control.revenue.describe()"
   ]
  },
  {
   "cell_type": "code",
   "execution_count": 10,
   "id": "65ba59bb",
   "metadata": {},
   "outputs": [
    {
     "data": {
      "text/plain": [
       "Text(0, 0.5, 'Плотность')"
      ]
     },
     "execution_count": 10,
     "metadata": {},
     "output_type": "execute_result"
    },
    {
     "data": {
      "image/png": "[encoded data removed]",
      "text/plain": [
       "<Figure size 432x288 with 1 Axes>"
      ]
     },
     "metadata": {},
     "output_type": "display_data"
    }
   ],
   "source": [
    "# Визуализируем распределние дохода пользователей в контрольной группе\n",
    "\n",
    "control.revenue.plot(kind='hist', density = True, bins=10)\n",
    "plt.title('Распределение дохода пользователей в контрольной группе')\n",
    "plt.xlabel('Доход')\n",
    "plt.ylabel('Плотность')"
   ]
  },
  {
   "cell_type": "code",
   "execution_count": 11,
   "id": "dc5ecaeb",
   "metadata": {},
   "outputs": [
    {
     "data": {
      "text/plain": [
       "Text(0, 0.5, 'Плотность')"
      ]
     },
     "execution_count": 11,
     "metadata": {},
     "output_type": "execute_result"
    },
    {
     "data": {
      "image/png": "[encoded data removed]",
      "text/plain": [
       "<Figure size 432x288 with 1 Axes>"
      ]
     },
     "metadata": {},
     "output_type": "display_data"
    }
   ],
   "source": [
    "# Визуализируем распределние дохода платящих пользователей в контрольной группе\n",
    "\n",
    "control_paying_users.revenue.plot(kind='hist', density = True, bins=10)\n",
    "plt.title('Распределение дохода платящих пользователей в контрольной группе')\n",
    "plt.xlabel('Доход')\n",
    "plt.ylabel('Плотность')"
   ]
  },
  {
   "cell_type": "code",
   "execution_count": 12,
   "id": "7bcfe16b",
   "metadata": {},
   "outputs": [
    {
     "data": {
      "text/plain": [
       "'0.06%'"
      ]
     },
     "execution_count": 12,
     "metadata": {},
     "output_type": "execute_result"
    }
   ],
   "source": [
    "'{:.2%}'.format(control.query('revenue > 30000').user_id.nunique() / control.user_id.nunique())"
   ]
  },
  {
   "cell_type": "code",
   "execution_count": 13,
   "id": "93f673c0",
   "metadata": {},
   "outputs": [
    {
     "data": {
      "text/plain": [
       "123"
      ]
     },
     "execution_count": 13,
     "metadata": {},
     "output_type": "execute_result"
    }
   ],
   "source": [
    "control.query('revenue > 30000').user_id.nunique()"
   ]
  },
  {
   "cell_type": "code",
   "execution_count": 14,
   "id": "5736e801",
   "metadata": {},
   "outputs": [
    {
     "data": {
      "text/plain": [
       "'89.37%'"
      ]
     },
     "execution_count": 14,
     "metadata": {},
     "output_type": "execute_result"
    }
   ],
   "source": [
    "'{:.2%}'.format(control.query('revenue > 30000').revenue.sum()/control.revenue.sum())"
   ]
  },
  {
   "cell_type": "markdown",
   "id": "69ad4d47",
   "metadata": {},
   "source": [
    "123 пользователя из контрольной группы (это всего 0.06% от всех и 6% от платящих) дают почти 90% дохода\n",
    "Конечно, мы не можем выкинуть этих пользователей, но должны понимать, что это может отразиться на дальнейших расчетах"
   ]
  },
  {
   "cell_type": "code",
   "execution_count": 15,
   "id": "9a09cb26",
   "metadata": {},
   "outputs": [
    {
     "data": {
      "text/plain": [
       "count    202667.000000\n",
       "mean         26.751287\n",
       "std         287.324162\n",
       "min           0.000000\n",
       "25%           0.000000\n",
       "50%           0.000000\n",
       "75%           0.000000\n",
       "max        4000.000000\n",
       "Name: revenue, dtype: float64"
      ]
     },
     "execution_count": 15,
     "metadata": {},
     "output_type": "execute_result"
    }
   ],
   "source": [
    "# Тестовая группа\n",
    "\n",
    "test.revenue.describe()"
   ]
  },
  {
   "cell_type": "code",
   "execution_count": 16,
   "id": "6501cd88",
   "metadata": {},
   "outputs": [
    {
     "data": {
      "text/plain": [
       "Text(0, 0.5, 'Плотность')"
      ]
     },
     "execution_count": 16,
     "metadata": {},
     "output_type": "execute_result"
    },
    {
     "data": {
      "image/png": "[encoded data removed]",
      "text/plain": [
       "<Figure size 432x288 with 1 Axes>"
      ]
     },
     "metadata": {},
     "output_type": "display_data"
    }
   ],
   "source": [
    "# Визуализируем распределние дохода пользователей в тестовой группе\n",
    "\n",
    "test.revenue.plot(kind='hist', density = True, bins=10)\n",
    "plt.title('Распределение дохода пользователей в тестовой группе')\n",
    "plt.xlabel('Доход')\n",
    "plt.ylabel('Плотность')"
   ]
  },
  {
   "cell_type": "code",
   "execution_count": 17,
   "id": "c16274f0",
   "metadata": {},
   "outputs": [
    {
     "data": {
      "text/plain": [
       "Text(0, 0.5, 'Плотность')"
      ]
     },
     "execution_count": 17,
     "metadata": {},
     "output_type": "execute_result"
    },
    {
     "data": {
      "image/png": "[encoded data removed]",
      "text/plain": [
       "<Figure size 432x288 with 1 Axes>"
      ]
     },
     "metadata": {},
     "output_type": "display_data"
    }
   ],
   "source": [
    "# Визуализируем распределние дохода платящих пользователей в тестовой группе\n",
    "\n",
    "test_paying_users.revenue.plot(kind='hist', density = True, bins=10)\n",
    "plt.title('Распределение дохода платящих пользователей в тестовой группе')\n",
    "plt.xlabel('Доход')\n",
    "plt.ylabel('Плотность')"
   ]
  },
  {
   "cell_type": "markdown",
   "id": "6a128a03",
   "metadata": {},
   "source": [
    "Также основная часть пользователей не приносит дохода, но у платящих пользователей нет сильных различий, как в контроле"
   ]
  },
  {
   "cell_type": "code",
   "execution_count": 18,
   "id": "4846d033",
   "metadata": {},
   "outputs": [],
   "source": [
    "# Посчитаем конверсию в платящего пользователя\n",
    "\n",
    "cvr_control = round(control_paying_users.user_id.nunique() / control.user_id.nunique() * 100, 5)\n",
    "cvr_test = round(test_paying_users.user_id.nunique() / test.user_id.nunique() * 100, 5)"
   ]
  },
  {
   "cell_type": "code",
   "execution_count": 19,
   "id": "e71f5b47",
   "metadata": {},
   "outputs": [
    {
     "data": {
      "text/plain": [
       "'-6.64%'"
      ]
     },
     "execution_count": 19,
     "metadata": {},
     "output_type": "execute_result"
    }
   ],
   "source": [
    "# Проверим разницу CR\n",
    "\n",
    "'{:.2%}'.format(round((cvr_test/cvr_control-1), 4))"
   ]
  },
  {
   "cell_type": "markdown",
   "id": "f5d61e07",
   "metadata": {},
   "source": [
    "Конверсия в тестовой группе ниже на 6.64%\n",
    "\n"
   ]
  },
  {
   "cell_type": "code",
   "execution_count": 20,
   "id": "7fbdfdfc",
   "metadata": {},
   "outputs": [],
   "source": [
    "# Рассчитаем ARPU для каждой группы\n",
    "\n",
    "arpu_control = round((control.revenue.sum() / control_paying_users.user_id.nunique())* cvr_control, 2)\n",
    "arpu_test = round((test.revenue.sum() / test_paying_users.user_id.nunique())* cvr_test, 2)"
   ]
  },
  {
   "cell_type": "code",
   "execution_count": 21,
   "id": "8c152e3e",
   "metadata": {},
   "outputs": [
    {
     "data": {
      "text/plain": [
       "'5.26%'"
      ]
     },
     "execution_count": 21,
     "metadata": {},
     "output_type": "execute_result"
    }
   ],
   "source": [
    "# Проверим разницу между ARPU\n",
    "\n",
    "'{:.2%}'.format(round((arpu_test/arpu_control-1), 4))"
   ]
  },
  {
   "cell_type": "markdown",
   "id": "c8f90d4b",
   "metadata": {},
   "source": [
    "В тестовой группе ARPU выше на 5.26%\n",
    "\n"
   ]
  },
  {
   "cell_type": "markdown",
   "id": "8791fa62",
   "metadata": {},
   "source": [
    "Применим тест Шапиро-Уилка, чтобы убедиться, что данные распределены ненормально. Перед применением критерия при проверке на нормальность делаем семплирование (1000 наблюдений), так как на больших выборках могут получаться неверные результаты. Для воспроизводимости результата используем параметр random_state=17 в методе sample."
   ]
  },
  {
   "cell_type": "code",
   "execution_count": 22,
   "id": "f35fbb5c",
   "metadata": {},
   "outputs": [
    {
     "data": {
      "text/plain": [
       "ShapiroResult(statistic=0.06614720821380615, pvalue=0.0)"
      ]
     },
     "execution_count": 22,
     "metadata": {},
     "output_type": "execute_result"
    }
   ],
   "source": [
    "stats.shapiro(control.revenue.sample(1000, random_state=17))"
   ]
  },
  {
   "cell_type": "code",
   "execution_count": 23,
   "id": "6d60fd03",
   "metadata": {},
   "outputs": [
    {
     "data": {
      "text/plain": [
       "ShapiroResult(statistic=0.06715953350067139, pvalue=0.0)"
      ]
     },
     "execution_count": 23,
     "metadata": {},
     "output_type": "execute_result"
    }
   ],
   "source": [
    "stats.shapiro(test.revenue.sample(1000, random_state=17))"
   ]
  },
  {
   "cell_type": "markdown",
   "id": "4b485b23",
   "metadata": {},
   "source": [
    "Убеждаемся, что данные распределены ненормально, pvalue < 0.05. Дальше будем использовать метод бутстрап и U-критерий Манна-Уитни"
   ]
  },
  {
   "cell_type": "code",
   "execution_count": 24,
   "id": "851b9792",
   "metadata": {},
   "outputs": [],
   "source": [
    "def bootstrap(\n",
    "    data_column_1, # числовые значения первой выборки\n",
    "    data_column_2, # числовые значения второй выборки\n",
    "    boot_it = 1000, # количество бутстрэп-подвыборок\n",
    "    statistic = np.mean, # интересующая нас статисбутстраптика\n",
    "    bootstrap_conf_level = 0.95 # уровень значимости\n",
    "):\n",
    "    boot_len = max(len(data_column_1), len(data_column_2))\n",
    "    boot_data = []\n",
    "    for i in tqdm(range(boot_it)): # извлекаем подвыборки\n",
    "        samples_1 = data_column_1.sample(\n",
    "            boot_len, \n",
    "            replace = True # параметр возвращения\n",
    "        ).values \n",
    "        \n",
    "        samples_2 = data_column_2.sample(\n",
    "            boot_len, \n",
    "            replace = True\n",
    "        ).values\n",
    "        boot_data.append(statistic([samples_1 - samples_2])) # применяем статистику\n",
    "\n",
    "        \n",
    "    pd_boot_data = pd.DataFrame(boot_data)\n",
    "        \n",
    "    left_quant = (1 - bootstrap_conf_level)/2\n",
    "    right_quant = 1 - (1 - bootstrap_conf_level) / 2\n",
    "    quants = pd_boot_data.quantile([left_quant, right_quant])\n",
    "        \n",
    "    p_1 = norm.cdf(\n",
    "        x = 0, \n",
    "        loc = np.median(boot_data), \n",
    "        scale = np.std(boot_data)\n",
    "    )\n",
    "    p_2 = norm.cdf(\n",
    "        x = 0, \n",
    "        loc = -np.median(boot_data), \n",
    "        scale = np.std(boot_data)\n",
    "    )\n",
    "    p_value = min(p_1, p_2) * 2\n",
    "        \n",
    "    # Визуализация\n",
    "    _, _, bars = plt.hist(pd_boot_data[0], bins = 50)\n",
    "    for bar in bars:\n",
    "        if abs(bar.get_x()) <= quants.iloc[0][0] or abs(bar.get_x()) >= quants.iloc[1][0]:\n",
    "            bar.set_facecolor('red')\n",
    "        else: \n",
    "            bar.set_facecolor('grey')\n",
    "            bar.set_edgecolor('black')\n",
    "    \n",
    "    plt.style.use('ggplot')\n",
    "    plt.vlines(quants,ymin=0,ymax=50,linestyle='--')\n",
    "    plt.xlabel('boot_data')\n",
    "    plt.ylabel('frequency')\n",
    "    plt.title(\"Histogram of boot_data\")\n",
    "    plt.show()\n",
    "       \n",
    "    return {\"boot_data\": boot_data, \n",
    "            \"quants\": quants, \n",
    "            \"p_value\": p_value}"
   ]
  },
  {
   "cell_type": "code",
   "execution_count": 25,
   "id": "4e104826",
   "metadata": {},
   "outputs": [
    {
     "data": {
      "application/vnd.jupyter.widget-view+json": {
       "model_id": "ebe6db04fe4e474c81d37f71e5163557",
       "version_major": 2,
       "version_minor": 0
      },
      "text/plain": [
       "  0%|          | 0/1000 [00:00<?, ?it/s]"
      ]
     },
     "metadata": {},
     "output_type": "display_data"
    },
    {
     "data": {
      "image/png": "[encoded data removed]",
      "text/plain": [
       "<Figure size 432x288 with 1 Axes>"
      ]
     },
     "metadata": {},
     "output_type": "display_data"
    }
   ],
   "source": [
    "# Используем метод бутстрап для сравнения средних в доходах групп\n",
    "\n",
    "revenue_data = bootstrap(control.revenue, test.revenue)"
   ]
  },
  {
   "cell_type": "code",
   "execution_count": 26,
   "id": "42b6d1ac",
   "metadata": {},
   "outputs": [
    {
     "data": {
      "text/html": [
       "<div>\n",
       "<style scoped>\n",
       "    .dataframe tbody tr th:only-of-type {\n",
       "        vertical-align: middle;\n",
       "    }\n",
       "\n",
       "    .dataframe tbody tr th {\n",
       "        vertical-align: top;\n",
       "    }\n",
       "\n",
       "    .dataframe thead th {\n",
       "        text-align: right;\n",
       "    }\n",
       "</style>\n",
       "<table border=\"1\" class=\"dataframe\">\n",
       "  <thead>\n",
       "    <tr style=\"text-align: right;\">\n",
       "      <th></th>\n",
       "      <th>0</th>\n",
       "    </tr>\n",
       "  </thead>\n",
       "  <tbody>\n",
       "    <tr>\n",
       "      <th>0.025</th>\n",
       "      <td>-5.317847</td>\n",
       "    </tr>\n",
       "    <tr>\n",
       "      <th>0.975</th>\n",
       "      <td>3.062549</td>\n",
       "    </tr>\n",
       "  </tbody>\n",
       "</table>\n",
       "</div>"
      ],
      "text/plain": [
       "              0\n",
       "0.025 -5.317847\n",
       "0.975  3.062549"
      ]
     },
     "execution_count": 26,
     "metadata": {},
     "output_type": "execute_result"
    }
   ],
   "source": [
    "# Доверительный интервал\n",
    "\n",
    "revenue_data['quants']"
   ]
  },
  {
   "cell_type": "code",
   "execution_count": 27,
   "id": "054baa13",
   "metadata": {},
   "outputs": [
    {
     "data": {
      "text/plain": [
       "0.5710360403286339"
      ]
     },
     "execution_count": 27,
     "metadata": {},
     "output_type": "execute_result"
    }
   ],
   "source": [
    "# Значение p-value\n",
    "\n",
    "revenue_data['p_value']"
   ]
  },
  {
   "cell_type": "code",
   "execution_count": 28,
   "id": "56562828",
   "metadata": {},
   "outputs": [
    {
     "data": {
      "text/plain": [
       "MannwhitneyuResult(statistic=20491259376.0, pvalue=0.06269701316074398)"
      ]
     },
     "execution_count": 28,
     "metadata": {},
     "output_type": "execute_result"
    }
   ],
   "source": [
    "# Считаем U-критерий Манна-Уитни\n",
    "\n",
    "stats.mannwhitneyu(control.revenue, test.revenue)"
   ]
  },
  {
   "cell_type": "code",
   "execution_count": 29,
   "id": "81991430",
   "metadata": {},
   "outputs": [],
   "source": [
    "# Посмотрим еще на различия между группами в конверсиях в платящего пользователя"
   ]
  },
  {
   "cell_type": "code",
   "execution_count": 30,
   "id": "d3e8f7b9",
   "metadata": {},
   "outputs": [],
   "source": [
    "# Переводим в булевое значение и создаем новый столбец\n",
    "\n",
    "df['pay'] = np.where(df.revenue > 0, 1, 0)\n",
    "\n",
    "cvr_df = df.groupby(['user_id', 'testgroup'], as_index=False) \\\n",
    "        .agg({'revenue':'count','pay':'sum'}) \\\n",
    "        .rename(columns = {'revenue':'visits', 'pay':'number_of_purchase'})\n",
    "\n",
    "cvr_df['cvr'] = cvr_df.number_of_purchase/cvr_df.visits"
   ]
  },
  {
   "cell_type": "code",
   "execution_count": 31,
   "id": "9b010bbb",
   "metadata": {},
   "outputs": [
    {
     "data": {
      "application/vnd.jupyter.widget-view+json": {
       "model_id": "d607bef9e54f43c18dd3afe10dabc2d9",
       "version_major": 2,
       "version_minor": 0
      },
      "text/plain": [
       "  0%|          | 0/1000 [00:00<?, ?it/s]"
      ]
     },
     "metadata": {},
     "output_type": "display_data"
    },
    {
     "data": {
      "image/png": "[encoded data removed]",
      "text/plain": [
       "<Figure size 432x288 with 1 Axes>"
      ]
     },
     "metadata": {},
     "output_type": "display_data"
    }
   ],
   "source": [
    "cvr_control = cvr_df.query('testgroup == \"a\"').cvr\n",
    "cvr_test = cvr_df.query('testgroup == \"b\"').cvr\n",
    "cvr_data = bootstrap(cvr_control, cvr_test)"
   ]
  },
  {
   "cell_type": "code",
   "execution_count": 32,
   "id": "2e946e30",
   "metadata": {},
   "outputs": [
    {
     "data": {
      "text/html": [
       "<div>\n",
       "<style scoped>\n",
       "    .dataframe tbody tr th:only-of-type {\n",
       "        vertical-align: middle;\n",
       "    }\n",
       "\n",
       "    .dataframe tbody tr th {\n",
       "        vertical-align: top;\n",
       "    }\n",
       "\n",
       "    .dataframe thead th {\n",
       "        text-align: right;\n",
       "    }\n",
       "</style>\n",
       "<table border=\"1\" class=\"dataframe\">\n",
       "  <thead>\n",
       "    <tr style=\"text-align: right;\">\n",
       "      <th></th>\n",
       "      <th>0</th>\n",
       "    </tr>\n",
       "  </thead>\n",
       "  <tbody>\n",
       "    <tr>\n",
       "      <th>0.025</th>\n",
       "      <td>0.000079</td>\n",
       "    </tr>\n",
       "    <tr>\n",
       "      <th>0.975</th>\n",
       "      <td>0.001258</td>\n",
       "    </tr>\n",
       "  </tbody>\n",
       "</table>\n",
       "</div>"
      ],
      "text/plain": [
       "              0\n",
       "0.025  0.000079\n",
       "0.975  0.001258"
      ]
     },
     "execution_count": 32,
     "metadata": {},
     "output_type": "execute_result"
    }
   ],
   "source": [
    "# Доверительный интервал\n",
    "\n",
    "cvr_data['quants']"
   ]
  },
  {
   "cell_type": "code",
   "execution_count": 33,
   "id": "810d5077",
   "metadata": {},
   "outputs": [
    {
     "data": {
      "text/plain": [
       "0.03118751198246732"
      ]
     },
     "execution_count": 33,
     "metadata": {},
     "output_type": "execute_result"
    }
   ],
   "source": [
    "# Значение p-value\n",
    "\n",
    "cvr_data['p_value']"
   ]
  },
  {
   "cell_type": "code",
   "execution_count": 34,
   "id": "36fb99f9",
   "metadata": {},
   "outputs": [
    {
     "data": {
      "text/plain": [
       "MannwhitneyuResult(statistic=20492777381.0, pvalue=0.035028756899158665)"
      ]
     },
     "execution_count": 34,
     "metadata": {},
     "output_type": "execute_result"
    }
   ],
   "source": [
    "# Считаем U-критерий Манна-Уитни\n",
    "\n",
    "stats.mannwhitneyu(cvr_control, cvr_test)"
   ]
  },
  {
   "cell_type": "markdown",
   "id": "cb7e5c0e",
   "metadata": {},
   "source": [
    "# Вывод\n",
    "\n",
    "Манн-Уитни и Бутстрап проверяют разные гипотезы. С помощью бутстрапа мы проверяем нулевую гипотезу о равенстве средних, а Манн-Уитни о равенстве распределений. Равенство распределений значит, что случайно выбранное значение из одной выборки может быть равновероятно больше или меньше случайного значения из другой выборки (иногда путают с равенством медиан, но на самом деле проверяется не только медиана). \n",
    "\n",
    "Про разное количество наблюдений в выборках: Манн-Уитни как и любой статистический оценщик не очень приветлив к дисбалансу. Это сказывается в первую очередь на мощности критерия – чем сильнее дисбаланс, тем реже критерий будет обнаруживать реальную разницу (эффект). \n",
    "\n",
    "## Итого\n",
    "* Тестовая выборка имеет большие выбросы, что сильно искажает нам среднее значение\n",
    "* Применяем бутстрап с оценкой среднего, мы не можем отклонить нулевую гипотезу о равенстве средних и сделать вывод, что тестовая и контрольная выборка имеют различия. U-критерий Манна-Уитни также не дает нам отклонить нулевую гипотезу\n",
    "* Хоть и разность конверсий статистически значима, это не позволяет нам считать одну из групп предпочтительным вариантом.\n",
    "* Нам необходимо больше данных, чтобы ответитть на дополнительные вопросы. Важно посчитать retention, LTV, посмотреть на воронки конверсии. В контрольной группе есть большие выбросы, чем они могут быть обусловлены? Посмотреть по каким источникам трафика/страны приходили платящие и неплатящие пользователи"
   ]
  },
  {
   "cell_type": "code",
   "execution_count": null,
   "id": "4a5a9a52",
   "metadata": {},
   "outputs": [],
   "source": []
  }
 ],
 "metadata": {
  "kernelspec": {
   "display_name": "Python 3 (ipykernel)",
   "language": "python",
   "name": "python3"
  },
  "language_info": {
   "codemirror_mode": {
    "name": "ipython",
    "version": 3
   },
   "file_extension": ".py",
   "mimetype": "text/x-python",
   "name": "python",
   "nbconvert_exporter": "python",
   "pygments_lexer": "ipython3",
   "version": "3.9.7"
  }
 },
 "nbformat": 4,
 "nbformat_minor": 5
}
